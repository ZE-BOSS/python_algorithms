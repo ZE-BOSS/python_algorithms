{
  "cells": [
    {
      "cell_type": "code",
      "execution_count": 1,
      "metadata": {
        "id": "3L_8fjQjUL25"
      },
      "outputs": [],
      "source": [
        "class HashTable:\n",
        "    def __init__(self):\n",
        "        self.MAX = 100\n",
        "        self.arr = [None for i in range(self.MAX)]\n",
        "\n",
        "    def get_hash(self, key):\n",
        "        h = 0\n",
        "        for char in key:\n",
        "            h += ord(char)\n",
        "        return h % self.MAX\n",
        "\n",
        "    def __setitem__(self, key, value):\n",
        "        h = self.get_hash(key)\n",
        "        self.arr[h] = value\n",
        "\n",
        "    def __getitem__(self, key):\n",
        "        h = self.get_hash(key)\n",
        "        return self.arr[h]\n",
        "    \n",
        "    def __delitem__(self, key):\n",
        "        h = self.get_hash(key)\n",
        "        self.arr[h] = None"
      ]
    },
    {
      "cell_type": "markdown",
      "metadata": {
        "id": "5Uv3NBqUUbjm"
      },
      "source": [
        "Declare new Hash Table\n"
      ]
    },
    {
      "cell_type": "code",
      "execution_count": 2,
      "metadata": {
        "id": "O0TrAE17UiPX"
      },
      "outputs": [],
      "source": [
        "ht = HashTable()"
      ]
    },
    {
      "cell_type": "markdown",
      "metadata": {
        "id": "adlhPwYiUk52"
      },
      "source": [
        "Add new Hash Table Value"
      ]
    },
    {
      "cell_type": "code",
      "execution_count": 3,
      "metadata": {
        "id": "N0sfMn8RUrZ6"
      },
      "outputs": [],
      "source": [
        "ht[\"march 6\"] = 130"
      ]
    },
    {
      "cell_type": "markdown",
      "metadata": {
        "id": "CCjWzzY2UvK9"
      },
      "source": [
        "Get Hash Table Value"
      ]
    },
    {
      "cell_type": "code",
      "execution_count": null,
      "metadata": {
        "colab": {
          "base_uri": "https://localhost:8080/"
        },
        "id": "8uQsiYl1U3E3",
        "outputId": "c85cdbb5-c77b-49ea-f678-ebe4622f8b00"
      },
      "outputs": [
        {
          "data": {
            "text/plain": [
              "130"
            ]
          },
          "execution_count": 4,
          "metadata": {},
          "output_type": "execute_result"
        }
      ],
      "source": [
        "ht[\"march 6\"]"
      ]
    },
    {
      "cell_type": "markdown",
      "metadata": {},
      "source": [
        "Delete Value from Hash Table"
      ]
    },
    {
      "cell_type": "code",
      "execution_count": null,
      "metadata": {},
      "outputs": [],
      "source": [
        "del ht[\"march 6\"]\n",
        "ht[\"march 6\"]"
      ]
    },
    {
      "cell_type": "markdown",
      "metadata": {},
      "source": [
        "Get All Values in Hash Table"
      ]
    },
    {
      "cell_type": "code",
      "execution_count": null,
      "metadata": {},
      "outputs": [],
      "source": [
        "ht.arr"
      ]
    }
  ],
  "metadata": {
    "colab": {
      "name": "colab-github-demo.ipynb",
      "provenance": []
    },
    "kernelspec": {
      "display_name": "Python 3",
      "name": "python3"
    }
  },
  "nbformat": 4,
  "nbformat_minor": 0
}
